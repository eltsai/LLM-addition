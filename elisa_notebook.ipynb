{
 "cells": [
  {
   "cell_type": "markdown",
   "metadata": {},
   "source": [
    "# Language Models Use Trigonometry to Do Addition\n",
    "\n",
    "## **Objective**\n",
    "The goal of this study is to investigate how transformers utilize **hidden state representations** to perform fundamental mathematical operations such as **addition**. Specifically, the study explores:\n",
    "1. **How numbers are represented within the residual stream** across multiple layers.\n",
    "2. **How attention and MLP mechanisms interact** to modify and propagate numerical representations.\n",
    "3. **What underlying algorithms transformers learn** to perform arithmetic operations.\n",
    "\n",
    " <img src=\"fig1.jpg\" width=\"600\"/>\n",
    "\n",
    "\n",
    "## Problem Definition\n",
    "\n",
    "### **Background**\n",
    "Autoregressive transformers are widely used in language models to process sequential data by predicting the next token in a given sequence. These models take as input a sequence of tokens $x_0, ..., x_n$ and generate probability distributions over possible next tokens $x_{n+1}$, enabling tasks such as text generation, mathematical reasoning, and code completion.\n",
    "\n",
    "### **Formal Definition**\n",
    "Given a sequence of tokens $x_0, x_1, ..., x_n$, an autoregressive transformer processes each token through a **residual stream** comprising multiple layers of computation. Each layer consists of two primary components: **multi-head self-attention** and **multi-layer perceptrons (MLPs)**. The hidden state representation at layer $l$ for token $i$ is computed as:\n",
    "\n",
    "$$\n",
    "h^l_i = h^{l-1}_i + a^l_i + m^l_i\n",
    "$$\n",
    "\n",
    "where:\n",
    "- $h^l_i$ represents the hidden state at layer $l$ for token $i$,\n",
    "- $a^l_i$ is the output of the **attention mechanism**, computed as:\n",
    "\n",
    "  $$\n",
    "  a^l_i = \\text{attn}^l(h^{l-1}_1, h^{l-1}_2, ..., h^{l-1}_i)\n",
    "  $$\n",
    "\n",
    "- $m^l_i$ is the output of the **MLP component**, computed as:\n",
    "\n",
    "  $$\n",
    "  m^l_i = \\text{MLP}^l(a^l_i + h^{l-1}_i)\n",
    "  $$\n",
    "\n",
    "\n"
   ]
  },
  {
   "cell_type": "markdown",
   "metadata": {},
   "source": [
    "## Load the model\n"
   ]
  },
  {
   "cell_type": "code",
   "execution_count": 1,
   "metadata": {},
   "outputs": [
    {
     "name": "stderr",
     "output_type": "stream",
     "text": [
      "/home/eltsai/anaconda3/envs/llm/lib/python3.10/site-packages/tqdm/auto.py:21: TqdmWarning: IProgress not found. Please update jupyter and ipywidgets. See https://ipywidgets.readthedocs.io/en/stable/user_install.html\n",
      "  from .autonotebook import tqdm as notebook_tqdm\n"
     ]
    }
   ],
   "source": [
    "import torch\n",
    "import numpy as np\n",
    "from tqdm import tqdm, trange\n",
    "from nnsight import LanguageModel\n",
    "import matplotlib.pyplot as plt\n",
    "import pandas as pd\n",
    "import os\n",
    "from huggingface_hub import login\n",
    "from sklearn.decomposition import PCA\n",
    "from sklearn.linear_model import LinearRegression\n",
    "import pickle\n",
    "from sklearn.exceptions import ConvergenceWarning\n",
    "import warnings\n",
    "import itertools\n",
    "import json\n"
   ]
  },
  {
   "cell_type": "code",
   "execution_count": 2,
   "metadata": {},
   "outputs": [
    {
     "name": "stderr",
     "output_type": "stream",
     "text": [
      "Some weights of the model checkpoint at EleutherAI/gpt-j-6B were not used when initializing GPTJForCausalLM: ['transformer.h.0.attn.bias', 'transformer.h.0.attn.masked_bias', 'transformer.h.1.attn.bias', 'transformer.h.1.attn.masked_bias', 'transformer.h.10.attn.bias', 'transformer.h.10.attn.masked_bias', 'transformer.h.11.attn.bias', 'transformer.h.11.attn.masked_bias', 'transformer.h.12.attn.bias', 'transformer.h.12.attn.masked_bias', 'transformer.h.13.attn.bias', 'transformer.h.13.attn.masked_bias', 'transformer.h.14.attn.bias', 'transformer.h.14.attn.masked_bias', 'transformer.h.15.attn.bias', 'transformer.h.15.attn.masked_bias', 'transformer.h.16.attn.bias', 'transformer.h.16.attn.masked_bias', 'transformer.h.17.attn.bias', 'transformer.h.17.attn.masked_bias', 'transformer.h.18.attn.bias', 'transformer.h.18.attn.masked_bias', 'transformer.h.19.attn.bias', 'transformer.h.19.attn.masked_bias', 'transformer.h.2.attn.bias', 'transformer.h.2.attn.masked_bias', 'transformer.h.20.attn.bias', 'transformer.h.20.attn.masked_bias', 'transformer.h.21.attn.bias', 'transformer.h.21.attn.masked_bias', 'transformer.h.22.attn.bias', 'transformer.h.22.attn.masked_bias', 'transformer.h.23.attn.bias', 'transformer.h.23.attn.masked_bias', 'transformer.h.24.attn.bias', 'transformer.h.24.attn.masked_bias', 'transformer.h.25.attn.bias', 'transformer.h.25.attn.masked_bias', 'transformer.h.26.attn.bias', 'transformer.h.26.attn.masked_bias', 'transformer.h.27.attn.bias', 'transformer.h.27.attn.masked_bias', 'transformer.h.3.attn.bias', 'transformer.h.3.attn.masked_bias', 'transformer.h.4.attn.bias', 'transformer.h.4.attn.masked_bias', 'transformer.h.5.attn.bias', 'transformer.h.5.attn.masked_bias', 'transformer.h.6.attn.bias', 'transformer.h.6.attn.masked_bias', 'transformer.h.7.attn.bias', 'transformer.h.7.attn.masked_bias', 'transformer.h.8.attn.bias', 'transformer.h.8.attn.masked_bias', 'transformer.h.9.attn.bias', 'transformer.h.9.attn.masked_bias']\n",
      "- This IS expected if you are initializing GPTJForCausalLM from the checkpoint of a model trained on another task or with another architecture (e.g. initializing a BertForSequenceClassification model from a BertForPreTraining model).\n",
      "- This IS NOT expected if you are initializing GPTJForCausalLM from the checkpoint of a model that you expect to be exactly identical (initializing a BertForSequenceClassification model from a BertForSequenceClassification model).\n"
     ]
    },
    {
     "data": {
      "text/plain": [
       "device(type='cuda', index=0)"
      ]
     },
     "execution_count": 2,
     "metadata": {},
     "output_type": "execute_result"
    }
   ],
   "source": [
    "# Load model# Set the token as an environment variable\n",
    "device = torch.device(\"cuda:0\" if torch.cuda.is_available() else \"cpu\")\n",
    "full_model_name = 'EleutherAI/gpt-j-6B'#'meta-llama/Llama-3.1-8B'# #'EleutherAI/pythia-6.9b'## # #'google/gemma-2-9b'#'\n",
    "MODEL_NAME = full_model_name.split('/')[-1]\n",
    "model = LanguageModel(full_model_name, device_map=device, torch_dtype=torch.bfloat16, dispatch=True)\n",
    "remote = False\n",
    "NLAYERS = model.config.num_hidden_layers\n",
    "\n",
    "device"
   ]
  },
  {
   "cell_type": "code",
   "execution_count": 15,
   "metadata": {},
   "outputs": [
    {
     "data": {
      "text/plain": [
       "28"
      ]
     },
     "execution_count": 15,
     "metadata": {},
     "output_type": "execute_result"
    }
   ],
   "source": [
    "NLAYERS"
   ]
  },
  {
   "cell_type": "code",
   "execution_count": 16,
   "metadata": {},
   "outputs": [
    {
     "data": {
      "text/plain": [
       "GPTJForCausalLM(\n",
       "  (transformer): GPTJModel(\n",
       "    (wte): Embedding(50400, 4096)\n",
       "    (drop): Dropout(p=0.0, inplace=False)\n",
       "    (h): ModuleList(\n",
       "      (0-27): 28 x GPTJBlock(\n",
       "        (ln_1): LayerNorm((4096,), eps=1e-05, elementwise_affine=True)\n",
       "        (attn): GPTJAttention(\n",
       "          (attn_dropout): Dropout(p=0.0, inplace=False)\n",
       "          (resid_dropout): Dropout(p=0.0, inplace=False)\n",
       "          (k_proj): Linear(in_features=4096, out_features=4096, bias=False)\n",
       "          (v_proj): Linear(in_features=4096, out_features=4096, bias=False)\n",
       "          (q_proj): Linear(in_features=4096, out_features=4096, bias=False)\n",
       "          (out_proj): Linear(in_features=4096, out_features=4096, bias=False)\n",
       "        )\n",
       "        (mlp): GPTJMLP(\n",
       "          (fc_in): Linear(in_features=4096, out_features=16384, bias=True)\n",
       "          (fc_out): Linear(in_features=16384, out_features=4096, bias=True)\n",
       "          (act): NewGELUActivation()\n",
       "          (dropout): Dropout(p=0.0, inplace=False)\n",
       "        )\n",
       "      )\n",
       "    )\n",
       "    (ln_f): LayerNorm((4096,), eps=1e-05, elementwise_affine=True)\n",
       "  )\n",
       "  (lm_head): Linear(in_features=4096, out_features=50400, bias=True)\n",
       "  (generator): Generator(\n",
       "    (streamer): Streamer()\n",
       "  )\n",
       ")"
      ]
     },
     "execution_count": 16,
     "metadata": {},
     "output_type": "execute_result"
    }
   ],
   "source": [
    "model"
   ]
  },
  {
   "cell_type": "markdown",
   "metadata": {},
   "source": [
    "<img src=\"transformers.png\" alt=\"Transformers architecture\" width=\"400\">\n"
   ]
  },
  {
   "cell_type": "markdown",
   "metadata": {},
   "source": [
    "## Generate addition evaluation data"
   ]
  },
  {
   "cell_type": "code",
   "execution_count": 3,
   "metadata": {},
   "outputs": [
    {
     "name": "stderr",
     "output_type": "stream",
     "text": [
      "100%|██████████| 100/100 [00:00<00:00, 140.86it/s]\n"
     ]
    },
    {
     "data": {
      "text/html": [
       "<div>\n",
       "<style scoped>\n",
       "    .dataframe tbody tr th:only-of-type {\n",
       "        vertical-align: middle;\n",
       "    }\n",
       "\n",
       "    .dataframe tbody tr th {\n",
       "        vertical-align: top;\n",
       "    }\n",
       "\n",
       "    .dataframe thead th {\n",
       "        text-align: right;\n",
       "    }\n",
       "</style>\n",
       "<table border=\"1\" class=\"dataframe\">\n",
       "  <thead>\n",
       "    <tr style=\"text-align: right;\">\n",
       "      <th></th>\n",
       "      <th>a</th>\n",
       "      <th>b</th>\n",
       "      <th>q_string</th>\n",
       "      <th>q_tok</th>\n",
       "      <th>answer</th>\n",
       "      <th>answer_tok</th>\n",
       "    </tr>\n",
       "  </thead>\n",
       "  <tbody>\n",
       "    <tr>\n",
       "      <th>0</th>\n",
       "      <td>0</td>\n",
       "      <td>0</td>\n",
       "      <td>Output ONLY a number.\\n0+0=</td>\n",
       "      <td>[26410, 22224, 257, 1271, 13, 198, 15, 10, 15,...</td>\n",
       "      <td>0</td>\n",
       "      <td>[15]</td>\n",
       "    </tr>\n",
       "    <tr>\n",
       "      <th>1</th>\n",
       "      <td>0</td>\n",
       "      <td>1</td>\n",
       "      <td>Output ONLY a number.\\n0+1=</td>\n",
       "      <td>[26410, 22224, 257, 1271, 13, 198, 15, 10, 16,...</td>\n",
       "      <td>1</td>\n",
       "      <td>[16]</td>\n",
       "    </tr>\n",
       "    <tr>\n",
       "      <th>2</th>\n",
       "      <td>0</td>\n",
       "      <td>2</td>\n",
       "      <td>Output ONLY a number.\\n0+2=</td>\n",
       "      <td>[26410, 22224, 257, 1271, 13, 198, 15, 10, 17,...</td>\n",
       "      <td>2</td>\n",
       "      <td>[17]</td>\n",
       "    </tr>\n",
       "    <tr>\n",
       "      <th>3</th>\n",
       "      <td>0</td>\n",
       "      <td>3</td>\n",
       "      <td>Output ONLY a number.\\n0+3=</td>\n",
       "      <td>[26410, 22224, 257, 1271, 13, 198, 15, 10, 18,...</td>\n",
       "      <td>3</td>\n",
       "      <td>[18]</td>\n",
       "    </tr>\n",
       "    <tr>\n",
       "      <th>4</th>\n",
       "      <td>0</td>\n",
       "      <td>4</td>\n",
       "      <td>Output ONLY a number.\\n0+4=</td>\n",
       "      <td>[26410, 22224, 257, 1271, 13, 198, 15, 10, 19,...</td>\n",
       "      <td>4</td>\n",
       "      <td>[19]</td>\n",
       "    </tr>\n",
       "    <tr>\n",
       "      <th>...</th>\n",
       "      <td>...</td>\n",
       "      <td>...</td>\n",
       "      <td>...</td>\n",
       "      <td>...</td>\n",
       "      <td>...</td>\n",
       "      <td>...</td>\n",
       "    </tr>\n",
       "    <tr>\n",
       "      <th>9995</th>\n",
       "      <td>99</td>\n",
       "      <td>95</td>\n",
       "      <td>Output ONLY a number.\\n99+95=</td>\n",
       "      <td>[26410, 22224, 257, 1271, 13, 198, 2079, 10, 3...</td>\n",
       "      <td>194</td>\n",
       "      <td>[22913]</td>\n",
       "    </tr>\n",
       "    <tr>\n",
       "      <th>9996</th>\n",
       "      <td>99</td>\n",
       "      <td>96</td>\n",
       "      <td>Output ONLY a number.\\n99+96=</td>\n",
       "      <td>[26410, 22224, 257, 1271, 13, 198, 2079, 10, 4...</td>\n",
       "      <td>195</td>\n",
       "      <td>[22186]</td>\n",
       "    </tr>\n",
       "    <tr>\n",
       "      <th>9997</th>\n",
       "      <td>99</td>\n",
       "      <td>97</td>\n",
       "      <td>Output ONLY a number.\\n99+97=</td>\n",
       "      <td>[26410, 22224, 257, 1271, 13, 198, 2079, 10, 5...</td>\n",
       "      <td>196</td>\n",
       "      <td>[25272]</td>\n",
       "    </tr>\n",
       "    <tr>\n",
       "      <th>9998</th>\n",
       "      <td>99</td>\n",
       "      <td>98</td>\n",
       "      <td>Output ONLY a number.\\n99+98=</td>\n",
       "      <td>[26410, 22224, 257, 1271, 13, 198, 2079, 10, 4...</td>\n",
       "      <td>197</td>\n",
       "      <td>[24991]</td>\n",
       "    </tr>\n",
       "    <tr>\n",
       "      <th>9999</th>\n",
       "      <td>99</td>\n",
       "      <td>99</td>\n",
       "      <td>Output ONLY a number.\\n99+99=</td>\n",
       "      <td>[26410, 22224, 257, 1271, 13, 198, 2079, 10, 2...</td>\n",
       "      <td>198</td>\n",
       "      <td>[22337]</td>\n",
       "    </tr>\n",
       "  </tbody>\n",
       "</table>\n",
       "<p>10000 rows × 6 columns</p>\n",
       "</div>"
      ],
      "text/plain": [
       "       a   b                       q_string  \\\n",
       "0      0   0    Output ONLY a number.\\n0+0=   \n",
       "1      0   1    Output ONLY a number.\\n0+1=   \n",
       "2      0   2    Output ONLY a number.\\n0+2=   \n",
       "3      0   3    Output ONLY a number.\\n0+3=   \n",
       "4      0   4    Output ONLY a number.\\n0+4=   \n",
       "...   ..  ..                            ...   \n",
       "9995  99  95  Output ONLY a number.\\n99+95=   \n",
       "9996  99  96  Output ONLY a number.\\n99+96=   \n",
       "9997  99  97  Output ONLY a number.\\n99+97=   \n",
       "9998  99  98  Output ONLY a number.\\n99+98=   \n",
       "9999  99  99  Output ONLY a number.\\n99+99=   \n",
       "\n",
       "                                                  q_tok  answer answer_tok  \n",
       "0     [26410, 22224, 257, 1271, 13, 198, 15, 10, 15,...       0       [15]  \n",
       "1     [26410, 22224, 257, 1271, 13, 198, 15, 10, 16,...       1       [16]  \n",
       "2     [26410, 22224, 257, 1271, 13, 198, 15, 10, 17,...       2       [17]  \n",
       "3     [26410, 22224, 257, 1271, 13, 198, 15, 10, 18,...       3       [18]  \n",
       "4     [26410, 22224, 257, 1271, 13, 198, 15, 10, 19,...       4       [19]  \n",
       "...                                                 ...     ...        ...  \n",
       "9995  [26410, 22224, 257, 1271, 13, 198, 2079, 10, 3...     194    [22913]  \n",
       "9996  [26410, 22224, 257, 1271, 13, 198, 2079, 10, 4...     195    [22186]  \n",
       "9997  [26410, 22224, 257, 1271, 13, 198, 2079, 10, 5...     196    [25272]  \n",
       "9998  [26410, 22224, 257, 1271, 13, 198, 2079, 10, 4...     197    [24991]  \n",
       "9999  [26410, 22224, 257, 1271, 13, 198, 2079, 10, 2...     198    [22337]  \n",
       "\n",
       "[10000 rows x 6 columns]"
      ]
     },
     "execution_count": 3,
     "metadata": {},
     "output_type": "execute_result"
    }
   ],
   "source": [
    "np.random.seed(42)\n",
    "def gen_math(mina = 0, maxa = 99):\n",
    "    data = []\n",
    "    with torch.no_grad():\n",
    "        for a in tqdm(range(mina, maxa + 1)):\n",
    "            for b in range(mina, maxa + 1):\n",
    "                if MODEL_NAME == 'gpt-j-6B':\n",
    "                    q_string = f'Output ONLY a number.\\n{a}+{b}='\n",
    "                elif MODEL_NAME == 'Llama-3.1-8B':\n",
    "                    q_string = f'The following is a correct addition problem. \\n{a}+{b}='\n",
    "                    #q_string = f'The following is a correction addition problem. {a}+0='\n",
    "                elif MODEL_NAME == 'pythia-6.9b':\n",
    "                    q_string = f'Output ONLY a number. {a}+{b}='\n",
    "                q_toks = model.tokenizer(q_string)['input_ids']\n",
    "                answer = a+b\n",
    "                answer_tok = model.tokenizer(f'{answer}')['input_ids']\n",
    "                if MODEL_NAME == 'Llama-3.1-8B':\n",
    "                    answer_tok = [answer_tok[-1]]\n",
    "                #print(answer_tok)\n",
    "                data.append({\n",
    "                    'a': a,\n",
    "                    'b': b,\n",
    "                    'q_string': q_string,\n",
    "                    'q_tok': q_toks,\n",
    "                    'answer': answer,\n",
    "                    'answer_tok': answer_tok\n",
    "                })\n",
    "    df = pd.DataFrame(data)\n",
    "    df.to_pickle(f'data_addition/gen_math/data_addition_{mina}_{maxa}_{MODEL_NAME}.pkl')\n",
    "    return df\n",
    "\n",
    "\n",
    "#evaluate_math(mina = 0, maxa = 500)\n",
    "gen_math(mina = 0, maxa = 99)\n",
    "#data = get_math_gen()"
   ]
  },
  {
   "cell_type": "code",
   "execution_count": 4,
   "metadata": {},
   "outputs": [],
   "source": [
    "def evaluate_math(mina = 0, maxa = 99, verbose = False, batch_size = 100):\n",
    "    df = pd.read_pickle(f'data_addition/gen_math/data_addition_{mina}_{maxa}_{MODEL_NAME}.pkl')\n",
    "    #df = df.sample(n=15, random_state=42)\n",
    "    corrects = []\n",
    "    with torch.no_grad():\n",
    "        # Process rows in batches\n",
    "        bar = tqdm(range(0, len(df), batch_size))\n",
    "        for step in bar:\n",
    "            batch_df = df.iloc[step:min(step + batch_size, len(df))]\n",
    "            batch_toks = torch.stack([torch.tensor(x) for x in batch_df['q_tok'].values]).to(device)\n",
    "            # Combine into single batch tensor\n",
    "            answer_toks = torch.stack([torch.tensor(x)[0] for x in batch_df['answer_tok'].values])\n",
    "            # Get model outputs for batch\n",
    "            with model.trace() as tracer:\n",
    "                with tracer.invoke(batch_toks) as invoker:\n",
    "                    pass\n",
    "                output = model.output.save()\n",
    "            \n",
    "            # Get predictions for batch\n",
    "            logits = output.logits[:,-1].cpu()\n",
    "            #print(model.tokenizer.batch_decode(output.logits[0].argmax(dim=-1)))\n",
    "            model_answers = logits.argmax(dim=-1)\n",
    "            correct = (model_answers == answer_toks).float()\n",
    "            incorrect_mask = correct == 0\n",
    "            if incorrect_mask.any() and verbose:\n",
    "                print(\"Incorrect answers:\")\n",
    "                print(\"Expected:\", model.tokenizer.batch_decode(answer_toks[incorrect_mask].unsqueeze(-1)))\n",
    "                print(\"Got:\", model.tokenizer.batch_decode(model_answers[incorrect_mask].unsqueeze(-1)))\n",
    "            corrects.extend(list(correct))\n",
    "            bar.set_postfix({'%': np.mean(corrects)})\n",
    "            \n",
    "    df['correct'] = corrects\n",
    "    df.to_pickle(f'data_addition/gen_math/data_addition_correct_{mina}_{maxa}_{MODEL_NAME}.pkl')\n",
    "    return np.mean(corrects)\n",
    "\n",
    "\n"
   ]
  },
  {
   "cell_type": "code",
   "execution_count": 5,
   "metadata": {},
   "outputs": [
    {
     "name": "stderr",
     "output_type": "stream",
     "text": [
      "  0%|          | 0/100 [00:00<?, ?it/s]You're using a GPT2TokenizerFast tokenizer. Please note that with a fast tokenizer, using the `__call__` method is faster than using a method to encode the text followed by a call to the `pad` method to get a padded encoding.\n",
      "100%|██████████| 100/100 [00:14<00:00,  6.85it/s, %=0.806]\n"
     ]
    },
    {
     "data": {
      "text/plain": [
       "0.8061"
      ]
     },
     "execution_count": 5,
     "metadata": {},
     "output_type": "execute_result"
    }
   ],
   "source": [
    "evaluate_math(mina = 0, maxa = 99, verbose = False)\n"
   ]
  },
  {
   "cell_type": "code",
   "execution_count": 12,
   "metadata": {},
   "outputs": [],
   "source": [
    "def get_correct_df(mina = 0, maxa = 99):\n",
    "    df = pd.read_pickle(f'data_addition/gen_math/data_addition_correct_{mina}_{maxa}_{MODEL_NAME}.pkl')\n",
    "    return df[df['correct'] == 1]\n",
    "\n",
    "def get_df_sample(mina = 0, maxa = 99, num_sample = 500, run = False):\n",
    "    if run:\n",
    "        df = get_correct_df(mina, maxa)\n",
    "        df = df.sample(n=num_sample, random_state=42).reset_index(drop=True)\n",
    "        # Save sampled dataframe\n",
    "        save_path = f'data_addition/gen_math/data_addition_correct_sample_{mina}_{maxa}_{MODEL_NAME}.pkl'\n",
    "        df.to_pickle(save_path)\n",
    "    return pd.read_pickle(f'data_addition/gen_math/data_addition_correct_sample_{mina}_{maxa}_{MODEL_NAME}.pkl')\n",
    "\n",
    "def get_output_tokens(mina = 0, maxa = 99):\n",
    "    # answers range from 0, 99 * 2 \n",
    "    avals, toks = [], []\n",
    "    for a in range(mina, 2 * maxa + 1):\n",
    "        atok = model.tokenizer(f'{a}')['input_ids']\n",
    "        avals.append(a)\n",
    "        toks.append(atok[0])\n",
    "    return avals, toks\n",
    "\n",
    "a, toks = get_output_tokens()\n",
    "df = get_df_sample(run = True)\n"
   ]
  },
  {
   "cell_type": "code",
   "execution_count": 13,
   "metadata": {},
   "outputs": [
    {
     "data": {
      "text/html": [
       "<div>\n",
       "<style scoped>\n",
       "    .dataframe tbody tr th:only-of-type {\n",
       "        vertical-align: middle;\n",
       "    }\n",
       "\n",
       "    .dataframe tbody tr th {\n",
       "        vertical-align: top;\n",
       "    }\n",
       "\n",
       "    .dataframe thead th {\n",
       "        text-align: right;\n",
       "    }\n",
       "</style>\n",
       "<table border=\"1\" class=\"dataframe\">\n",
       "  <thead>\n",
       "    <tr style=\"text-align: right;\">\n",
       "      <th></th>\n",
       "      <th>a</th>\n",
       "      <th>b</th>\n",
       "      <th>q_string</th>\n",
       "      <th>q_tok</th>\n",
       "      <th>answer</th>\n",
       "      <th>answer_tok</th>\n",
       "      <th>correct</th>\n",
       "    </tr>\n",
       "  </thead>\n",
       "  <tbody>\n",
       "    <tr>\n",
       "      <th>0</th>\n",
       "      <td>9</td>\n",
       "      <td>51</td>\n",
       "      <td>Output ONLY a number.\\n9+51=</td>\n",
       "      <td>[26410, 22224, 257, 1271, 13, 198, 24, 10, 434...</td>\n",
       "      <td>60</td>\n",
       "      <td>[1899]</td>\n",
       "      <td>tensor(1.)</td>\n",
       "    </tr>\n",
       "    <tr>\n",
       "      <th>1</th>\n",
       "      <td>25</td>\n",
       "      <td>39</td>\n",
       "      <td>Output ONLY a number.\\n25+39=</td>\n",
       "      <td>[26410, 22224, 257, 1271, 13, 198, 1495, 10, 2...</td>\n",
       "      <td>64</td>\n",
       "      <td>[2414]</td>\n",
       "      <td>tensor(1.)</td>\n",
       "    </tr>\n",
       "    <tr>\n",
       "      <th>2</th>\n",
       "      <td>45</td>\n",
       "      <td>49</td>\n",
       "      <td>Output ONLY a number.\\n45+49=</td>\n",
       "      <td>[26410, 22224, 257, 1271, 13, 198, 2231, 10, 2...</td>\n",
       "      <td>94</td>\n",
       "      <td>[5824]</td>\n",
       "      <td>tensor(1.)</td>\n",
       "    </tr>\n",
       "    <tr>\n",
       "      <th>3</th>\n",
       "      <td>56</td>\n",
       "      <td>54</td>\n",
       "      <td>Output ONLY a number.\\n56+54=</td>\n",
       "      <td>[26410, 22224, 257, 1271, 13, 198, 3980, 10, 4...</td>\n",
       "      <td>110</td>\n",
       "      <td>[11442]</td>\n",
       "      <td>tensor(1.)</td>\n",
       "    </tr>\n",
       "    <tr>\n",
       "      <th>4</th>\n",
       "      <td>77</td>\n",
       "      <td>15</td>\n",
       "      <td>Output ONLY a number.\\n77+15=</td>\n",
       "      <td>[26410, 22224, 257, 1271, 13, 198, 3324, 10, 1...</td>\n",
       "      <td>92</td>\n",
       "      <td>[5892]</td>\n",
       "      <td>tensor(1.)</td>\n",
       "    </tr>\n",
       "    <tr>\n",
       "      <th>...</th>\n",
       "      <td>...</td>\n",
       "      <td>...</td>\n",
       "      <td>...</td>\n",
       "      <td>...</td>\n",
       "      <td>...</td>\n",
       "      <td>...</td>\n",
       "      <td>...</td>\n",
       "    </tr>\n",
       "    <tr>\n",
       "      <th>495</th>\n",
       "      <td>4</td>\n",
       "      <td>4</td>\n",
       "      <td>Output ONLY a number.\\n4+4=</td>\n",
       "      <td>[26410, 22224, 257, 1271, 13, 198, 19, 10, 19,...</td>\n",
       "      <td>8</td>\n",
       "      <td>[23]</td>\n",
       "      <td>tensor(1.)</td>\n",
       "    </tr>\n",
       "    <tr>\n",
       "      <th>496</th>\n",
       "      <td>75</td>\n",
       "      <td>15</td>\n",
       "      <td>Output ONLY a number.\\n75+15=</td>\n",
       "      <td>[26410, 22224, 257, 1271, 13, 198, 2425, 10, 1...</td>\n",
       "      <td>90</td>\n",
       "      <td>[3829]</td>\n",
       "      <td>tensor(1.)</td>\n",
       "    </tr>\n",
       "    <tr>\n",
       "      <th>497</th>\n",
       "      <td>74</td>\n",
       "      <td>11</td>\n",
       "      <td>Output ONLY a number.\\n74+11=</td>\n",
       "      <td>[26410, 22224, 257, 1271, 13, 198, 4524, 10, 1...</td>\n",
       "      <td>85</td>\n",
       "      <td>[5332]</td>\n",
       "      <td>tensor(1.)</td>\n",
       "    </tr>\n",
       "    <tr>\n",
       "      <th>498</th>\n",
       "      <td>62</td>\n",
       "      <td>5</td>\n",
       "      <td>Output ONLY a number.\\n62+5=</td>\n",
       "      <td>[26410, 22224, 257, 1271, 13, 198, 5237, 10, 2...</td>\n",
       "      <td>67</td>\n",
       "      <td>[3134]</td>\n",
       "      <td>tensor(1.)</td>\n",
       "    </tr>\n",
       "    <tr>\n",
       "      <th>499</th>\n",
       "      <td>28</td>\n",
       "      <td>54</td>\n",
       "      <td>Output ONLY a number.\\n28+54=</td>\n",
       "      <td>[26410, 22224, 257, 1271, 13, 198, 2078, 10, 4...</td>\n",
       "      <td>82</td>\n",
       "      <td>[6469]</td>\n",
       "      <td>tensor(1.)</td>\n",
       "    </tr>\n",
       "  </tbody>\n",
       "</table>\n",
       "<p>500 rows × 7 columns</p>\n",
       "</div>"
      ],
      "text/plain": [
       "      a   b                       q_string  \\\n",
       "0     9  51   Output ONLY a number.\\n9+51=   \n",
       "1    25  39  Output ONLY a number.\\n25+39=   \n",
       "2    45  49  Output ONLY a number.\\n45+49=   \n",
       "3    56  54  Output ONLY a number.\\n56+54=   \n",
       "4    77  15  Output ONLY a number.\\n77+15=   \n",
       "..   ..  ..                            ...   \n",
       "495   4   4    Output ONLY a number.\\n4+4=   \n",
       "496  75  15  Output ONLY a number.\\n75+15=   \n",
       "497  74  11  Output ONLY a number.\\n74+11=   \n",
       "498  62   5   Output ONLY a number.\\n62+5=   \n",
       "499  28  54  Output ONLY a number.\\n28+54=   \n",
       "\n",
       "                                                 q_tok  answer answer_tok  \\\n",
       "0    [26410, 22224, 257, 1271, 13, 198, 24, 10, 434...      60     [1899]   \n",
       "1    [26410, 22224, 257, 1271, 13, 198, 1495, 10, 2...      64     [2414]   \n",
       "2    [26410, 22224, 257, 1271, 13, 198, 2231, 10, 2...      94     [5824]   \n",
       "3    [26410, 22224, 257, 1271, 13, 198, 3980, 10, 4...     110    [11442]   \n",
       "4    [26410, 22224, 257, 1271, 13, 198, 3324, 10, 1...      92     [5892]   \n",
       "..                                                 ...     ...        ...   \n",
       "495  [26410, 22224, 257, 1271, 13, 198, 19, 10, 19,...       8       [23]   \n",
       "496  [26410, 22224, 257, 1271, 13, 198, 2425, 10, 1...      90     [3829]   \n",
       "497  [26410, 22224, 257, 1271, 13, 198, 4524, 10, 1...      85     [5332]   \n",
       "498  [26410, 22224, 257, 1271, 13, 198, 5237, 10, 2...      67     [3134]   \n",
       "499  [26410, 22224, 257, 1271, 13, 198, 2078, 10, 4...      82     [6469]   \n",
       "\n",
       "        correct  \n",
       "0    tensor(1.)  \n",
       "1    tensor(1.)  \n",
       "2    tensor(1.)  \n",
       "3    tensor(1.)  \n",
       "4    tensor(1.)  \n",
       "..          ...  \n",
       "495  tensor(1.)  \n",
       "496  tensor(1.)  \n",
       "497  tensor(1.)  \n",
       "498  tensor(1.)  \n",
       "499  tensor(1.)  \n",
       "\n",
       "[500 rows x 7 columns]"
      ]
     },
     "execution_count": 13,
     "metadata": {},
     "output_type": "execute_result"
    }
   ],
   "source": [
    "ANS_SEQPOS_DICT\n",
    "df"
   ]
  },
  {
   "cell_type": "code",
   "execution_count": 39,
   "metadata": {},
   "outputs": [
    {
     "name": "stderr",
     "output_type": "stream",
     "text": [
      "100%|██████████| 7/7 [00:00<00:00,  9.85it/s]\n"
     ]
    }
   ],
   "source": [
    "\n",
    "\n",
    "\n",
    "target = 'b'\n",
    "mina = 0\n",
    "maxa = 99\n",
    "batch_size = 80\n",
    "sample = False\n",
    "\n",
    "ANS_SEQPOS = ANS_SEQPOS_DICT[target]\n",
    "\n",
    "a = torch.tensor(df['a'].values)\n",
    "b = torch.tensor(df['b'].values)\n",
    "a_b = a+b\n",
    "hss = []\n",
    "with torch.no_grad():\n",
    "    for step in tqdm(range(0, len(df), batch_size)):\n",
    "        batch_df = df.iloc[step:min(step + batch_size, len(df))]\n",
    "        tokens = torch.stack([torch.tensor(x) for x in batch_df['q_tok'].values]).to(device)\n",
    "        layer_hss = []\n",
    "        with model.trace(validate=False,remote=remote) as tracer:\n",
    "            with tracer.invoke(tokens, scan=False):\n",
    "                for layer in range(NLAYERS):\n",
    "                    if MODEL_NAME == 'Llama-3.1-8B':\n",
    "                        hs = model.model.layers[layer].input\n",
    "                    elif MODEL_NAME == 'gpt-j-6B':\n",
    "                        hs = model.transformer.h[layer].inputs[1]['hidden_states']\n",
    "                    elif MODEL_NAME == 'pythia-6.9b':\n",
    "                        hs = model.gpt_neox.layers[layer].input\n",
    "                    layer_hss.append(hs[:,ANS_SEQPOS].save())\n",
    "        layer_hss = [layer_hs.detach().cpu() for layer_hs in layer_hss] # gets hs on top of ans_token\n",
    "        layer_hss = torch.stack(layer_hss, dim=1) # stack along new layer dimension\n",
    "        hss.append(layer_hss)\n",
    "hss = torch.cat(hss, dim=0) # concat along batch dimension\n",
    "# Save nums and hss to file with descriptive name\n",
    "# Use _FULL in filename if using complete dataset\n",
    "suffix = '_FULL' if not sample else ''\n",
    "save_path = f'data/helix_hss/{target}_helix_data_{mina}_{maxa}{suffix}_{MODEL_NAME}.pt'\n",
    "# Create directory if it doesn't exist\n",
    "os.makedirs('data/helix_hss', exist_ok=True)\n",
    "# Save tensors\n",
    "torch.save({\n",
    "    'a': a,\n",
    "    'b':b,\n",
    "    'a+b':a_b,\n",
    "    'hidden_states': hss\n",
    "}, save_path)\n",
    "\n",
    "\n",
    "\n",
    "\n",
    "# run_hs('a', sample = False)\n",
    "#run_hs('a', sample = True)\n",
    "#get_nums_hss('a', sample = True)"
   ]
  },
  {
   "cell_type": "code",
   "execution_count": 29,
   "metadata": {},
   "outputs": [],
   "source": [
    "def get_nums_hss(target, mina = 0,maxa = 99, sample = False):\n",
    "    suffix = '_FULL' if not sample else ''\n",
    "    save_path = f'data/helix_hss/{target}_helix_data_{mina}_{maxa}{suffix}_{MODEL_NAME}.pt'\n",
    "    obj = torch.load(save_path, weights_only=True)\n",
    "    a,b,a_b, hss = obj['a'], obj['b'], obj['a+b'], obj['hidden_states']\n",
    "    return a,b,a_b, hss\n",
    "\n",
    "a,b,a_b, hss = get_nums_hss('a')"
   ]
  },
  {
   "cell_type": "code",
   "execution_count": 32,
   "metadata": {},
   "outputs": [
    {
     "data": {
      "text/plain": [
       "28"
      ]
     },
     "execution_count": 32,
     "metadata": {},
     "output_type": "execute_result"
    }
   ],
   "source": [
    "NLAYERS"
   ]
  },
  {
   "cell_type": "code",
   "execution_count": 37,
   "metadata": {},
   "outputs": [
    {
     "data": {
      "text/plain": [
       "torch.Size([500, 28, 4096])"
      ]
     },
     "execution_count": 37,
     "metadata": {},
     "output_type": "execute_result"
    }
   ],
   "source": [
    "hss.shape"
   ]
  },
  {
   "cell_type": "markdown",
   "metadata": {},
   "source": [
    "## PCA Functions"
   ]
  },
  {
   "cell_type": "code",
   "execution_count": 40,
   "metadata": {},
   "outputs": [
    {
     "name": "stderr",
     "output_type": "stream",
     "text": [
      "  0%|          | 0/28 [00:00<?, ?it/s]"
     ]
    },
    {
     "name": "stderr",
     "output_type": "stream",
     "text": [
      "100%|██████████| 28/28 [00:17<00:00,  1.64it/s]\n"
     ]
    }
   ],
   "source": [
    "def run_pca(target, mina = 0, maxa = 99, NUM_PCA = 100):\n",
    "    _,_,_, hss = get_nums_hss(target, mina, maxa) # we want the full thing for a pca\n",
    "    pca_components = {}\n",
    "    for layer in tqdm(range(hss.shape[1])):\n",
    "        hs = hss[:,layer]\n",
    "        # Convert to numpy for sklearn\n",
    "        hs_numpy = hs.float().numpy()\n",
    "        # Fit PCA without dimensionality reduction\n",
    "        pca = PCA(n_components=NUM_PCA)# None\n",
    "        pca.fit(hs_numpy)\n",
    "        # Store components for this layer\n",
    "        pca_components[layer] = {\n",
    "            'explained_variance_ratio': pca.explained_variance_ratio_,\n",
    "            'components': pca.components_,\n",
    "            'singular_values': pca.singular_values_,\n",
    "            'mean': pca.mean_\n",
    "        }\n",
    "    # Save PCA components to file with descriptive name\n",
    "    save_path = f'data/helix_pca/{target}_pca_data_{mina}_{maxa}_{MODEL_NAME}.pt'\n",
    "    # Create directory if it doesn't exist\n",
    "    os.makedirs('data/helix_pca', exist_ok=True)\n",
    "    # Save dictionary\n",
    "    torch.save(pca_components, save_path)\n",
    "    return pca_components\n",
    "\n",
    "def get_pca(target, layer, mina = 0, maxa = 99):\n",
    "    save_path = f'data/helix_pca/{target}_pca_data_{mina}_{maxa}_{MODEL_NAME}.pt'\n",
    "    pca_data = torch.load(save_path, weights_only = False)[layer]\n",
    "    return pca_data\n",
    "\n",
    "run_pca('b')\n",
    "pca_data = get_pca('b', 18)"
   ]
  },
  {
   "cell_type": "markdown",
   "metadata": {},
   "source": [
    "## Investigating Numerical Structure"
   ]
  },
  {
   "cell_type": "markdown",
   "metadata": {},
   "source": [
    "### Linear Structure"
   ]
  },
  {
   "cell_type": "code",
   "execution_count": 45,
   "metadata": {},
   "outputs": [
    {
     "name": "stdout",
     "output_type": "stream",
     "text": [
      "Generated hidden states for 100\n"
     ]
    },
    {
     "data": {
      "image/png": "[encoded data removed]",
      "text/plain": [
       "<Figure size 406.25x142.188 with 2 Axes>"
      ]
     },
     "metadata": {},
     "output_type": "display_data"
    }
   ],
   "source": [
    "from sklearn.preprocessing import StandardScaler\n",
    "COL_WIDTH = 3.25\n",
    "TWO_COL_WIDTH = 6.75\n",
    "\n",
    "plt.rcParams.update({\n",
    "    'font.size': 10,               # Default text size\n",
    "    'axes.titlesize': 7,          # Title size for axes\n",
    "    'axes.labelsize': 7,          # Axis label size\n",
    "    'xtick.labelsize': 6,         # X-axis tick label size\n",
    "    'ytick.labelsize': 6,         # Y-axis tick label size\n",
    "    'legend.fontsize': 6,         # Legend font size\n",
    "    'figure.titlesize': 10,        # Overall figure title size\n",
    "})\n",
    "def get_nums_hidden_states(mina = 0,maxa = 99):\n",
    "    nums = np.linspace(mina, maxa, maxa-mina+1)\n",
    "    tokens = torch.tensor(model.tokenizer([f'{int(num)}' for num in nums])['input_ids'])\n",
    "    activations = []\n",
    "    with torch.no_grad():\n",
    "        with model.trace(validate=False,remote=remote) as tracer:\n",
    "            with tracer.invoke(tokens, scan=False):\n",
    "                for layer in range(NLAYERS):\n",
    "                    activations.append(model.transformer.h[layer].inputs[1]['hidden_states'][:,-1].save())\n",
    "    act = torch.stack(activations).detach().cpu()\n",
    "    print(f'Generated hidden states for {len(nums)}')\n",
    "    return nums, act\n",
    "\n",
    "\n",
    "\n",
    "def get_pc1(mina, maxa, skip0, layer):\n",
    "    nums, hss = get_nums_hidden_states(mina, maxa)\n",
    "    hs = hss[layer].cpu().float().numpy()\n",
    "    # Perform PCA\n",
    "    \n",
    "    # Scale the data\n",
    "    scaler = StandardScaler()\n",
    "    hs_scaled = scaler.fit_transform(hs)\n",
    "    \n",
    "    # Get first principal component\n",
    "    pca = PCA(n_components=1)\n",
    "    pc1_vals = pca.fit_transform(hs_scaled).flatten()\n",
    "    \n",
    "    # Print variance explained by PC1\n",
    "    \n",
    "    # Create plot\n",
    "    plt.figure(figsize=(1.25*COL_WIDTH, 1.25*0.35*COL_WIDTH))\n",
    "    \n",
    "    # Create scatter plot colored by number value\n",
    "    scatter = plt.scatter(nums, pc1_vals, c=nums, cmap='viridis', label = 'PC1')\n",
    "    \n",
    "    # Calculate line of best fit\n",
    "    slope, intercept = np.polyfit(nums, pc1_vals, 1)\n",
    "    line_x = nums\n",
    "    line_y = slope * line_x + intercept\n",
    "    \n",
    "    # Calculate R^2\n",
    "    r_squared = np.corrcoef(nums, pc1_vals)[0,1]**2\n",
    "    \n",
    "    # Plot line of best fit\n",
    "    plt.plot(line_x, line_y, 'r--', label=f'Best fit (R² = {r_squared:.3f})')\n",
    "    \n",
    "    # Add colorbar\n",
    "    plt.colorbar(scatter)\n",
    "    \n",
    "    plt.xlabel('Number')\n",
    "    plt.ylabel('PC1 Value')\n",
    "    \n",
    "    plt.legend()\n",
    "    plt.tight_layout()\n",
    "    # Create directory if it doesn't exist\n",
    "    # Save figure with informative filename\n",
    "    # plt.savefig(f'paper_figures/figure_2/pc1_layer{layer-1}_range{mina}-{maxa}_skip0={skip0}_{MODEL_NAME}.pdf', \n",
    "    #             bbox_inches='tight', dpi = 300)\n",
    "    plt.show()\n",
    "\n",
    "get_pc1(mina = 0, maxa = 99, skip0 = False, layer = 1)"
   ]
  },
  {
   "cell_type": "code",
   "execution_count": null,
   "metadata": {},
   "outputs": [],
   "source": []
  }
 ],
 "metadata": {
  "kernelspec": {
   "display_name": "llm",
   "language": "python",
   "name": "python3"
  },
  "language_info": {
   "codemirror_mode": {
    "name": "ipython",
    "version": 3
   },
   "file_extension": ".py",
   "mimetype": "text/x-python",
   "name": "python",
   "nbconvert_exporter": "python",
   "pygments_lexer": "ipython3",
   "version": "3.10.16"
  }
 },
 "nbformat": 4,
 "nbformat_minor": 2
}
